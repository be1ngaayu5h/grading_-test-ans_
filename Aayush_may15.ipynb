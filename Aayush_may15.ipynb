{
 "cells": [
  {
   "cell_type": "markdown",
   "id": "8b3a3acc",
   "metadata": {},
   "source": [
    "# Machine learning -FST-5\n",
    "\n",
    "## Grading Test -15-05-2023\n"
   ]
  },
  {
   "cell_type": "markdown",
   "id": "cc2b5da3",
   "metadata": {},
   "source": [
    "## Part A"
   ]
  },
  {
   "cell_type": "markdown",
   "id": "67b43955",
   "metadata": {},
   "source": [
    "## 1.A Lambda Function is a _ _ _ _ function\n",
    "\n",
    "\n",
    "Solution:\n",
    "\n",
    "\n",
    "b)Anonymous function"
   ]
  },
  {
   "cell_type": "markdown",
   "id": "ede4619e",
   "metadata": {},
   "source": [
    "## 2.Why would you use the pass statement ?\n",
    "\n",
    "\n",
    "Solution:\n",
    "\n",
    "\n",
    "d) All of the above"
   ]
  },
  {
   "cell_type": "markdown",
   "id": "cd8eb6a6",
   "metadata": {},
   "source": [
    "## 3.What is MRO in Python?\n",
    "\n",
    "\n",
    "Solution:\n",
    "\n",
    "\n",
    "b)defines the order in which the base classes are searched when executing a method."
   ]
  },
  {
   "cell_type": "markdown",
   "id": "4f0c6f0a",
   "metadata": {},
   "source": [
    "## 4.What is self in Python?\n",
    "\n",
    "\n",
    "Solution:\n",
    "\n",
    "\n",
    "b)Represents the instance of the class"
   ]
  },
  {
   "cell_type": "markdown",
   "id": "5cf16a3e",
   "metadata": {},
   "source": [
    "## 5.What is __init__?\n",
    "\n",
    "\n",
    "Solution:\n",
    "\n",
    "\n",
    "b)Constructor method in python"
   ]
  },
  {
   "cell_type": "markdown",
   "id": "a5dabad2",
   "metadata": {},
   "source": [
    "## 6.What does * indicate in regular expression?\n",
    "\n",
    "\n",
    "Solution:\n",
    "\n",
    "\n",
    "b)Zero or more occurrences"
   ]
  },
  {
   "cell_type": "markdown",
   "id": "2528bde5",
   "metadata": {},
   "source": [
    "## Part B"
   ]
  },
  {
   "cell_type": "markdown",
   "id": "83627823",
   "metadata": {},
   "source": [
    "## 6.What is break and continue in python? Explain with example\n",
    "\n",
    "\n",
    "Solution:\n",
    "\n",
    "\n",
    "Break is a control flow statement\n",
    "\n",
    "\n",
    "The break statement is used to end a loop, whether the loop has finished through all of its elements or not.\n",
    "\n",
    "example:"
   ]
  },
  {
   "cell_type": "code",
   "execution_count": 25,
   "id": "632e7bc8",
   "metadata": {},
   "outputs": [
    {
     "name": "stdout",
     "output_type": "stream",
     "text": [
      "Aayush\n",
      "Harshal\n",
      "Atharv\n",
      "Sam\n"
     ]
    }
   ],
   "source": [
    "friends = [\"Aayush\", \"Harshal\", \"Atharv\",\"Sam\", \"Jeet\", \"Shubham\"]\n",
    "for friend in friends:\n",
    "    if friend == \"Jeet\":\n",
    "        break\n",
    "    print(friend)"
   ]
  },
  {
   "cell_type": "markdown",
   "id": "443e0e6c",
   "metadata": {},
   "source": [
    "## 7.What are Dict and List comprehensions? Give atleast one example(code)\n",
    "\n",
    "Solution:\n",
    "\n",
    "List Comprehension:\n",
    "\n",
    "\n",
    "it consist square braces.\n",
    "\n",
    "dictionary comprehension:\n",
    "\n",
    "\n",
    "It consists of curly braces"
   ]
  },
  {
   "cell_type": "code",
   "execution_count": 2,
   "id": "f5f9dee9",
   "metadata": {},
   "outputs": [
    {
     "name": "stdout",
     "output_type": "stream",
     "text": [
      "[1, 4, 9, 16, 25]\n"
     ]
    }
   ],
   "source": [
    "# List Comprehension example\n",
    "squares = [x**2 for x in range(1, 6)]\n",
    "print(squares)"
   ]
  },
  {
   "cell_type": "code",
   "execution_count": 3,
   "id": "1332270c",
   "metadata": {},
   "outputs": [
    {
     "name": "stdout",
     "output_type": "stream",
     "text": [
      "{1: 1, 2: 4, 3: 9, 4: 16, 5: 25}\n"
     ]
    }
   ],
   "source": [
    "# dictionary comprehension example\n",
    "square_dict = {x: x**2 for x in range(1, 6)}\n",
    "print(square_dict)"
   ]
  },
  {
   "cell_type": "markdown",
   "id": "b3243fd2",
   "metadata": {},
   "source": [
    "## 8.How do you create a class in Python?\n",
    "\n",
    "\n",
    "Solution:\n",
    "\n",
    "To create a class in Python, you use the `class` keyword followed by the class name and a colon. You then define the class attributes and methods inside the class block."
   ]
  },
  {
   "cell_type": "code",
   "execution_count": 23,
   "id": "2020fa8f",
   "metadata": {},
   "outputs": [],
   "source": [
    "class Aayush:\n",
    "    pass"
   ]
  },
  {
   "cell_type": "markdown",
   "id": "c1759a87",
   "metadata": {},
   "source": [
    "## 9.What is inheritance ?Give  one example \n",
    "\n",
    "Solution:\n",
    "\n",
    "Inheritance is the process by which a new class is created from an existing class, inheriting its attributes and methods."
   ]
  },
  {
   "cell_type": "code",
   "execution_count": 5,
   "id": "60e0799c",
   "metadata": {},
   "outputs": [
    {
     "name": "stdout",
     "output_type": "stream",
     "text": [
      "2015 Tata Nano with 4 doors\n"
     ]
    }
   ],
   "source": [
    "class Vehicle:\n",
    "    def __init__(self, make, model, year):\n",
    "        self.make = make\n",
    "        self.model = model\n",
    "        self.year = year\n",
    "\n",
    "    def get_info(self):\n",
    "        return f\"{self.year} {self.make} {self.model}\"\n",
    "\n",
    "class Car(Vehicle):\n",
    "    def __init__(self, make, model, year, num_doors):\n",
    "        super().__init__(make, model, year)\n",
    "        self.num_doors = num_doors\n",
    "\n",
    "    def get_info(self):\n",
    "        return f\"{super().get_info()} with {self.num_doors} doors\"\n",
    "\n",
    "my_car = Car(\"Tata\", \"Nano\", 2015, 4)\n",
    "print(my_car.get_info())"
   ]
  },
  {
   "cell_type": "markdown",
   "id": "2d73773a",
   "metadata": {},
   "source": [
    "## 10.What is polymorphism? Give one example\n",
    "\n",
    "\n",
    "Solution:\n",
    "\n",
    "\n",
    "Polymorphism is a feature of python that allows objects of different classes to be treated as if they are from the same class, therefore it increases code flexibility and code reusability."
   ]
  },
  {
   "cell_type": "code",
   "execution_count": 6,
   "id": "96cdb87b",
   "metadata": {},
   "outputs": [
    {
     "name": "stdout",
     "output_type": "stream",
     "text": [
      "8\n",
      "28.26\n"
     ]
    }
   ],
   "source": [
    "class Shape:\n",
    "    def area(self):\n",
    "        pass\n",
    "\n",
    "class Rectangle(Shape):\n",
    "    def __init__(self, length, width):\n",
    "        self.length = length\n",
    "        self.width = width\n",
    "\n",
    "    def area(self):\n",
    "        return self.length * self.width\n",
    "\n",
    "class Circle(Shape):\n",
    "    def __init__(self, radius):\n",
    "        self.radius = radius\n",
    "\n",
    "    def area(self):\n",
    "        return 3.14 * (self.radius ** 2)\n",
    "\n",
    "shapes = [Rectangle(2,4),Circle(3)]\n",
    "\n",
    "for shape in shapes:\n",
    "    print(shape.area())"
   ]
  },
  {
   "cell_type": "markdown",
   "id": "bf1c49c4",
   "metadata": {},
   "source": [
    "## 11.Difference between multilevel and multiple inheritance?\n",
    "\n",
    "Solution:\n",
    "    \n"
   ]
  },
  {
   "cell_type": "code",
   "execution_count": 7,
   "id": "3ad40570",
   "metadata": {},
   "outputs": [
    {
     "name": "stdout",
     "output_type": "stream",
     "text": [
      "This is ball 1 of Over 1\n",
      "This is ball 2 of Over 2\n",
      "This is Over 3\n"
     ]
    }
   ],
   "source": [
    "#multiple inheritance\n",
    "class Over1:\n",
    "    def ball1(self):\n",
    "        print(\"This is ball 1 of Over 1\")\n",
    "\n",
    "class Over2:\n",
    "    def ball2(self):\n",
    "        print(\"This is ball 2 of Over 2\")\n",
    "\n",
    "class MultiDerived(Over1, Over2):\n",
    "    def ball3(self):\n",
    "        print(\"This is Over 3\")\n",
    "\n",
    "aayush = MultiDerived()\n",
    "\n",
    "aayush.ball1()   \n",
    "aayush.ball2()  \n",
    "aayush.ball3() "
   ]
  },
  {
   "cell_type": "code",
   "execution_count": 8,
   "id": "94ddfabd",
   "metadata": {},
   "outputs": [
    {
     "name": "stdout",
     "output_type": "stream",
     "text": [
      "I am breathing\n",
      "I can fly in the sky\n"
     ]
    }
   ],
   "source": [
    "#multilevel inheritance\n",
    "class Animal:\n",
    "    def breathe(self):\n",
    "        print(\"I am breathing\")\n",
    "\n",
    "class Bird(Animal):\n",
    "    def fly(self):\n",
    "        print(\"I can fly in the sky\")\n",
    "\n",
    "class Bat(Bird):\n",
    "    pass\n",
    "\n",
    "bat = Bat()\n",
    "bat.breathe()\n",
    "bat.fly() "
   ]
  },
  {
   "cell_type": "markdown",
   "id": "e08cb497",
   "metadata": {},
   "source": [
    "## 12.Create a 1D,2D and 3D array?\n",
    "\n",
    "Solution:"
   ]
  },
  {
   "cell_type": "code",
   "execution_count": 9,
   "id": "de93c813",
   "metadata": {},
   "outputs": [
    {
     "name": "stdout",
     "output_type": "stream",
     "text": [
      "[1 2 3 4 5]\n"
     ]
    }
   ],
   "source": [
    "#1D\n",
    "import numpy as np\n",
    "\n",
    "a = np.array([1, 2, 3, 4, 5])\n",
    "print(a)"
   ]
  },
  {
   "cell_type": "code",
   "execution_count": 10,
   "id": "a3df127a",
   "metadata": {},
   "outputs": [
    {
     "name": "stdout",
     "output_type": "stream",
     "text": [
      "[[1 2 3]\n",
      " [4 5 6]]\n"
     ]
    }
   ],
   "source": [
    "#2D\n",
    "b = np.array([[1, 2, 3], [4, 5, 6]])\n",
    "print(b)"
   ]
  },
  {
   "cell_type": "code",
   "execution_count": 11,
   "id": "8ec3b882",
   "metadata": {},
   "outputs": [
    {
     "name": "stdout",
     "output_type": "stream",
     "text": [
      "[[[1 2]\n",
      "  [3 4]]\n",
      "\n",
      " [[5 6]\n",
      "  [7 8]]]\n"
     ]
    }
   ],
   "source": [
    "#3D\n",
    "c = np.array([[[1, 2], [3, 4]], [[5, 6], [7, 8]]])\n",
    "print(c)"
   ]
  },
  {
   "cell_type": "markdown",
   "id": "dcb88c4a",
   "metadata": {},
   "source": [
    "## 13.How will you reverse the numpy array using one line of code?"
   ]
  },
  {
   "cell_type": "code",
   "execution_count": 12,
   "id": "d30e5927",
   "metadata": {},
   "outputs": [
    {
     "name": "stdout",
     "output_type": "stream",
     "text": [
      "[1 2 3 4 5]\n",
      "[5 4 3 2 1]\n"
     ]
    }
   ],
   "source": [
    "# the one line of code is  a_reversed = a[::-1]\n",
    "a = np.array([1, 2, 3, 4, 5])\n",
    "a_reversed = a[::-1]\n",
    "print(a)           \n",
    "print(a_reversed)   "
   ]
  },
  {
   "cell_type": "markdown",
   "id": "e4bd2917",
   "metadata": {},
   "source": [
    "## 14.What advantages do NumPy arrays offer over  Python lists?\n",
    "\n",
    "Solution:"
   ]
  },
  {
   "cell_type": "markdown",
   "id": "139d6ddf",
   "metadata": {},
   "source": [
    "numpy arrays are faster than python lists\n",
    "\n",
    "numpy arrays use less memory than python lists\n",
    "\n",
    "numpy arrays offer oprations like  arithmetic, matrix multiplication, and linear algebra operations.\n",
    "\n",
    "NumPy arrays allow for broadcasting which will be benificial in large data sets"
   ]
  },
  {
   "cell_type": "markdown",
   "id": "73b8976c",
   "metadata": {},
   "source": [
    "## 15.python3 code to print the below pattern"
   ]
  },
  {
   "cell_type": "code",
   "execution_count": 13,
   "id": "9a1ba024",
   "metadata": {},
   "outputs": [],
   "source": [
    "#*\n",
    "#**\n",
    "#***"
   ]
  },
  {
   "cell_type": "code",
   "execution_count": 14,
   "id": "3d96cfc8",
   "metadata": {},
   "outputs": [
    {
     "name": "stdout",
     "output_type": "stream",
     "text": [
      "*\n",
      "**\n",
      "***\n"
     ]
    }
   ],
   "source": [
    "for i in range(1, 4):\n",
    "    print('*' * i)"
   ]
  },
  {
   "cell_type": "markdown",
   "id": "93f095d7",
   "metadata": {},
   "source": [
    "# Part C"
   ]
  },
  {
   "cell_type": "markdown",
   "id": "4f469bb6",
   "metadata": {},
   "source": [
    "## 16.Draw insights from the dataset provided using suitable visualization libraries.(6*4 = 24)"
   ]
  },
  {
   "cell_type": "markdown",
   "id": "27d9d48b",
   "metadata": {},
   "source": [
    "## 16.1.Load the \"Diamonds dataset \" from seaborn library"
   ]
  },
  {
   "cell_type": "code",
   "execution_count": 15,
   "id": "4fcb8899",
   "metadata": {},
   "outputs": [
    {
     "data": {
      "text/html": [
       "<div>\n",
       "<style scoped>\n",
       "    .dataframe tbody tr th:only-of-type {\n",
       "        vertical-align: middle;\n",
       "    }\n",
       "\n",
       "    .dataframe tbody tr th {\n",
       "        vertical-align: top;\n",
       "    }\n",
       "\n",
       "    .dataframe thead th {\n",
       "        text-align: right;\n",
       "    }\n",
       "</style>\n",
       "<table border=\"1\" class=\"dataframe\">\n",
       "  <thead>\n",
       "    <tr style=\"text-align: right;\">\n",
       "      <th></th>\n",
       "      <th>carat</th>\n",
       "      <th>cut</th>\n",
       "      <th>color</th>\n",
       "      <th>clarity</th>\n",
       "      <th>depth</th>\n",
       "      <th>table</th>\n",
       "      <th>price</th>\n",
       "      <th>x</th>\n",
       "      <th>y</th>\n",
       "      <th>z</th>\n",
       "    </tr>\n",
       "  </thead>\n",
       "  <tbody>\n",
       "    <tr>\n",
       "      <th>0</th>\n",
       "      <td>0.23</td>\n",
       "      <td>Ideal</td>\n",
       "      <td>E</td>\n",
       "      <td>SI2</td>\n",
       "      <td>61.5</td>\n",
       "      <td>55.0</td>\n",
       "      <td>326</td>\n",
       "      <td>3.95</td>\n",
       "      <td>3.98</td>\n",
       "      <td>2.43</td>\n",
       "    </tr>\n",
       "    <tr>\n",
       "      <th>1</th>\n",
       "      <td>0.21</td>\n",
       "      <td>Premium</td>\n",
       "      <td>E</td>\n",
       "      <td>SI1</td>\n",
       "      <td>59.8</td>\n",
       "      <td>61.0</td>\n",
       "      <td>326</td>\n",
       "      <td>3.89</td>\n",
       "      <td>3.84</td>\n",
       "      <td>2.31</td>\n",
       "    </tr>\n",
       "    <tr>\n",
       "      <th>2</th>\n",
       "      <td>0.23</td>\n",
       "      <td>Good</td>\n",
       "      <td>E</td>\n",
       "      <td>VS1</td>\n",
       "      <td>56.9</td>\n",
       "      <td>65.0</td>\n",
       "      <td>327</td>\n",
       "      <td>4.05</td>\n",
       "      <td>4.07</td>\n",
       "      <td>2.31</td>\n",
       "    </tr>\n",
       "    <tr>\n",
       "      <th>3</th>\n",
       "      <td>0.29</td>\n",
       "      <td>Premium</td>\n",
       "      <td>I</td>\n",
       "      <td>VS2</td>\n",
       "      <td>62.4</td>\n",
       "      <td>58.0</td>\n",
       "      <td>334</td>\n",
       "      <td>4.20</td>\n",
       "      <td>4.23</td>\n",
       "      <td>2.63</td>\n",
       "    </tr>\n",
       "    <tr>\n",
       "      <th>4</th>\n",
       "      <td>0.31</td>\n",
       "      <td>Good</td>\n",
       "      <td>J</td>\n",
       "      <td>SI2</td>\n",
       "      <td>63.3</td>\n",
       "      <td>58.0</td>\n",
       "      <td>335</td>\n",
       "      <td>4.34</td>\n",
       "      <td>4.35</td>\n",
       "      <td>2.75</td>\n",
       "    </tr>\n",
       "  </tbody>\n",
       "</table>\n",
       "</div>"
      ],
      "text/plain": [
       "   carat      cut color clarity  depth  table  price     x     y     z\n",
       "0   0.23    Ideal     E     SI2   61.5   55.0    326  3.95  3.98  2.43\n",
       "1   0.21  Premium     E     SI1   59.8   61.0    326  3.89  3.84  2.31\n",
       "2   0.23     Good     E     VS1   56.9   65.0    327  4.05  4.07  2.31\n",
       "3   0.29  Premium     I     VS2   62.4   58.0    334  4.20  4.23  2.63\n",
       "4   0.31     Good     J     SI2   63.3   58.0    335  4.34  4.35  2.75"
      ]
     },
     "execution_count": 15,
     "metadata": {},
     "output_type": "execute_result"
    }
   ],
   "source": [
    "import seaborn as sns\n",
    "df = sns.load_dataset('diamonds')\n",
    "df.head()"
   ]
  },
  {
   "cell_type": "markdown",
   "id": "10c2ee9e",
   "metadata": {},
   "source": [
    "## 16.2.Which column has highest correlation with the target variable?(Graphs)"
   ]
  },
  {
   "cell_type": "code",
   "execution_count": 16,
   "id": "c8c66be8",
   "metadata": {},
   "outputs": [
    {
     "name": "stderr",
     "output_type": "stream",
     "text": [
      "C:\\Users\\DELL\\AppData\\Local\\Temp\\ipykernel_15348\\1677935105.py:3: FutureWarning: The default value of numeric_only in DataFrame.corr is deprecated. In a future version, it will default to False. Select only valid columns or specify the value of numeric_only to silence this warning.\n",
      "  correlation = df.corr()['price'].drop('price')\n"
     ]
    },
    {
     "data": {
      "image/png": "[encoded data removed]",
      "text/plain": [
       "<Figure size 1000x600 with 1 Axes>"
      ]
     },
     "metadata": {},
     "output_type": "display_data"
    }
   ],
   "source": [
    "import matplotlib.pyplot as plt\n",
    "\n",
    "correlation = df.corr()['price'].drop('price')\n",
    "\n",
    "plt.figure(figsize=(10, 6))\n",
    "sns.barplot(x=correlation.index, y=correlation.values)\n",
    "plt.xticks(rotation=45)\n",
    "plt.xlabel('Features')\n",
    "plt.ylabel('Correlation')\n",
    "plt.title('Correlation with Price')\n",
    "plt.show()"
   ]
  },
  {
   "cell_type": "markdown",
   "id": "e47d99bd",
   "metadata": {},
   "source": [
    "## 16.3.Find the outliers in each column?Use suitable graphs."
   ]
  },
  {
   "cell_type": "code",
   "execution_count": 22,
   "id": "be845561",
   "metadata": {},
   "outputs": [
    {
     "data": {
      "image/png": "[encoded data removed]",
      "text/plain": [
       "<Figure size 1500x500 with 11 Axes>"
      ]
     },
     "metadata": {},
     "output_type": "display_data"
    }
   ],
   "source": [
    "import pandas as pd\n",
    "import matplotlib.pyplot as plt\n",
    "fig, axes = plt.subplots(nrows=1, ncols=len(df.columns), figsize=(15, 5))\n",
    "plt.subplots_adjust(hspace=0.5)\n",
    "for ax, column in zip(axes.flatten(), df.columns):\n",
    "    ax.scatter(range(len(df)), df[column])\n",
    "    ax.set_title(column)\n",
    "plt.show()"
   ]
  },
  {
   "cell_type": "markdown",
   "id": "7f1fe802",
   "metadata": {},
   "source": [
    "## 16.4.what is the count of premium diamonds in the dataset?"
   ]
  },
  {
   "cell_type": "code",
   "execution_count": 18,
   "id": "25d7ae17",
   "metadata": {},
   "outputs": [
    {
     "name": "stdout",
     "output_type": "stream",
     "text": [
      "Count of Premium Diamonds: 13791\n"
     ]
    }
   ],
   "source": [
    "premium_count = df[df['cut'] == 'Premium'].shape[0]\n",
    "print(\"Count of Premium Diamonds:\", premium_count)"
   ]
  },
  {
   "cell_type": "markdown",
   "id": "1c59b4ad",
   "metadata": {},
   "source": [
    "## 16.5.What is the average price of diamonds?"
   ]
  },
  {
   "cell_type": "code",
   "execution_count": 19,
   "id": "7833fecd",
   "metadata": {},
   "outputs": [
    {
     "name": "stdout",
     "output_type": "stream",
     "text": [
      "Average Price of Diamonds: 3932.799721913237\n"
     ]
    }
   ],
   "source": [
    "avg_price = df['price'].mean()\n",
    "print(\"Average Price of Diamonds:\", avg_price)"
   ]
  },
  {
   "cell_type": "markdown",
   "id": "dfb6e5a9",
   "metadata": {},
   "source": [
    "## 16.6.Create a new column called \"size = x*y*z"
   ]
  },
  {
   "cell_type": "code",
   "execution_count": 21,
   "id": "b2a44193",
   "metadata": {},
   "outputs": [
    {
     "name": "stdout",
     "output_type": "stream",
     "text": [
      "   carat      cut color clarity  depth  table  price     x     y     z  \\\n",
      "0   0.23    Ideal     E     SI2   61.5   55.0    326  3.95  3.98  2.43   \n",
      "1   0.21  Premium     E     SI1   59.8   61.0    326  3.89  3.84  2.31   \n",
      "2   0.23     Good     E     VS1   56.9   65.0    327  4.05  4.07  2.31   \n",
      "3   0.29  Premium     I     VS2   62.4   58.0    334  4.20  4.23  2.63   \n",
      "4   0.31     Good     J     SI2   63.3   58.0    335  4.34  4.35  2.75   \n",
      "\n",
      "        size  \n",
      "0  38.202030  \n",
      "1  34.505856  \n",
      "2  38.076885  \n",
      "3  46.724580  \n",
      "4  51.917250  \n"
     ]
    }
   ],
   "source": [
    "df['size'] = df['x'] * df['y'] * df['z']\n",
    "print(df.head())"
   ]
  }
 ],
 "metadata": {
  "kernelspec": {
   "display_name": "Python 3 (ipykernel)",
   "language": "python",
   "name": "python3"
  },
  "language_info": {
   "codemirror_mode": {
    "name": "ipython",
    "version": 3
   },
   "file_extension": ".py",
   "mimetype": "text/x-python",
   "name": "python",
   "nbconvert_exporter": "python",
   "pygments_lexer": "ipython3",
   "version": "3.10.9"
  }
 },
 "nbformat": 4,
 "nbformat_minor": 5
}
